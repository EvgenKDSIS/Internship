{
 "cells": [
  {
   "cell_type": "code",
   "execution_count": 63,
   "id": "6d461701-1216-443b-ad7f-117467225b89",
   "metadata": {
    "tags": []
   },
   "outputs": [],
   "source": [
    "import requests\n",
    "from fake_useragent import UserAgent\n",
    "from bs4 import BeautifulSoup\n",
    "import lxml\n",
    "\n",
    "import time\n",
    "from selenium import webdriver\n",
    "from selenium.webdriver.common.by import By\n",
    "\n",
    "import pandas as pd\n",
    "\n",
    "# browser = webdriver.Safari()\n",
    "# browser.get('https://trudvsem.ru/vacancy/search')\n",
    "# time.sleep(10)\n",
    "# browser.quit()"
   ]
  },
  {
   "cell_type": "markdown",
   "id": "4c9d6305-9b73-427f-9867-859167eb45c4",
   "metadata": {},
   "source": [
    "**ISSUES:**\n",
    "\n",
    "- Не учтена логика сброса фильтров\n",
    "- Изменить логику программы по скроллингу и клику на каждую вакансию"
   ]
  },
  {
   "cell_type": "code",
   "execution_count": 32,
   "id": "7c01bbfc-9844-435e-97e8-5ee51bbb8ebb",
   "metadata": {
    "tags": []
   },
   "outputs": [],
   "source": [
    "df = pd.DataFrame(columns=[\n",
    "    'название',\n",
    "    'компания',\n",
    "    'регион',\n",
    "    'зп',\n",
    "    'дата обновы',\n",
    "    'ссылка'\n",
    "])"
   ]
  },
  {
   "cell_type": "code",
   "execution_count": null,
   "id": "127396a9",
   "metadata": {},
   "outputs": [],
   "source": []
  },
  {
   "cell_type": "code",
   "execution_count": 35,
   "id": "c14da2a0-0eb4-4686-a5fe-cccb8fec6edc",
   "metadata": {
    "tags": []
   },
   "outputs": [
    {
     "name": "stdout",
     "output_type": "stream",
     "text": [
      "Количество вакансий: 38\n",
      "Парсим вакансии:\n",
      "\n"
     ]
    }
   ],
   "source": [
    "with webdriver.Chrome() as browser:\n",
    "    \n",
    "    # заход на сайт\n",
    "    browser.get('https://trudvsem.ru/vacancy/search')\n",
    "    browser.maximize_window()\n",
    "    browser.delete_all_cookies()\n",
    "    time.sleep(2)\n",
    "    \n",
    "    # убрать фильтры \n",
    "    browser.find_element(By.XPATH, '/html/body/header/div[2]/div/div[2]/div/button[1]').click()\n",
    "    \n",
    "    # ищем поле ввода и вводим текст\n",
    "    inp = browser.find_element(By.XPATH, '/html/body/header/div[1]/div[1]/label[1]/input')\n",
    "    inp.send_keys('системный аналитик')\n",
    "    time.sleep(1)\n",
    "    \n",
    "    # # убираем фильтры из серч панели\n",
    "    # search_panel = browser.find_element(By.XPATH, '/html/body/header/div[2]/div')\n",
    "    # buttons = search_panel.find_elements(By.CLASS_NAME, 'search-panel__item')\n",
    "    # for button in buttons:\n",
    "    #     button = button.find_element(By.TAG_NAME, 'button')\n",
    "    #     button.click()\n",
    "    \n",
    "    # ищем кнопку \"найти\" и жмем ёё\n",
    "    browser.find_element(By.XPATH, '/html/body/header/div[1]/div[1]/button').click()\n",
    "    time.sleep(1)\n",
    "    \n",
    "    button = browser.find_element(By.XPATH, '/html/body/main/div[2]/div[5]/div/div[1]/div[3]/div[11]/button')\n",
    "    # скроллинг до конца\n",
    "    try: \n",
    "        while True:\n",
    "            browser.execute_script(\"return arguments[0].scrollIntoView(true);\", button)\n",
    "            time.sleep(1)\n",
    "            button.click()\n",
    "            time.sleep(1)\n",
    "    except:\n",
    "        pass\n",
    "    \n",
    "    header = browser.find_element(By.TAG_NAME, 'h1')\n",
    "    browser.execute_script(\"return arguments[0].scrollIntoView(true);\", header)\n",
    "    \n",
    "    # посчитать количество вакансий на странице\n",
    "    vac_block_bar = browser.find_element(By.CLASS_NAME, 'main__search-sidebar')\n",
    "    vac_block = vac_block_bar.find_elements(By.TAG_NAME, 'div')\n",
    "    vac_block = [div for div in vac_block if 'search-results-simple-card mb-1' in str(div.get_attribute('class'))]\n",
    "    print('Количество вакансий:', len(vac_block))\n",
    "    print('Парсим вакансии:\\n')\n",
    "    \n",
    "    # вывести информацию о вакансии\n",
    "    for vac in vac_block:\n",
    "        vac_info = {}\n",
    "        vac_info['название'] = vac.find_element(By.TAG_NAME, 'strong').text\n",
    "        titles = vac.find_elements(By.CLASS_NAME, r'content_small')\n",
    "        vac_info['компания'] = titles[0].text\n",
    "        vac_info['регион'] = titles[1].text\n",
    "        vac_info['зп'] = vac.find_element(By.CLASS_NAME, r'search-results-simple-card__salary').text\n",
    "        vac_info['дата обновы'] = vac.find_element(By.CLASS_NAME, r'date__preview').text.strip('Обновлено: ')\n",
    "        vac_info['ссылка'] = vac.find_element(By.TAG_NAME, 'a').get_attribute('href')\n",
    "        df.loc[len(df)] = vac_info"
   ]
  },
  {
   "cell_type": "code",
   "execution_count": 45,
   "id": "ae1b6565-dfc3-4900-974e-4c88c171b5a5",
   "metadata": {
    "tags": []
   },
   "outputs": [
    {
     "data": {
      "text/plain": [
       "'https://trudvsem.ru/vacancy/card/1197746421620/85531d80-3767-11ee-99f9-0d972cff014f'"
      ]
     },
     "execution_count": 45,
     "metadata": {},
     "output_type": "execute_result"
    }
   ],
   "source": [
    "df.iloc[0, -1]"
   ]
  },
  {
   "cell_type": "code",
   "execution_count": 69,
   "id": "1ec3698a-1271-4beb-88c5-67eb6d4c7537",
   "metadata": {
    "tags": []
   },
   "outputs": [],
   "source": [
    "ua = UserAgent().chrome\n",
    "headers = {'User-Agent': ua}\n",
    "\n",
    "r = requests.get(df.iloc[1, -1], timeout=5, headers=headers, allow_redirects=True)\n",
    "\n",
    "soup = BeautifulSoup(r.content, 'lxml')"
   ]
  },
  {
   "cell_type": "code",
   "execution_count": 72,
   "id": "e10292d7-8bd7-4f07-a0c8-c54ee3eca1bd",
   "metadata": {
    "tags": []
   },
   "outputs": [
    {
     "data": {
      "text/html": [
       "<div>\n",
       "<style scoped>\n",
       "    .dataframe tbody tr th:only-of-type {\n",
       "        vertical-align: middle;\n",
       "    }\n",
       "\n",
       "    .dataframe tbody tr th {\n",
       "        vertical-align: top;\n",
       "    }\n",
       "\n",
       "    .dataframe thead th {\n",
       "        text-align: right;\n",
       "    }\n",
       "</style>\n",
       "<table border=\"1\" class=\"dataframe\">\n",
       "  <thead>\n",
       "    <tr style=\"text-align: right;\">\n",
       "      <th></th>\n",
       "      <th>название</th>\n",
       "      <th>компания</th>\n",
       "      <th>регион</th>\n",
       "      <th>зп</th>\n",
       "      <th>дата обновы</th>\n",
       "      <th>ссылка</th>\n",
       "    </tr>\n",
       "  </thead>\n",
       "  <tbody>\n",
       "    <tr>\n",
       "      <th>0</th>\n",
       "      <td>Системный аналитик</td>\n",
       "      <td>ООО \"ЦИФРОМЕД\"</td>\n",
       "      <td>г. Москва</td>\n",
       "      <td>до 150 000 руб.</td>\n",
       "      <td>28.09.2023</td>\n",
       "      <td>https://trudvsem.ru/vacancy/card/1197746421620...</td>\n",
       "    </tr>\n",
       "    <tr>\n",
       "      <th>1</th>\n",
       "      <td>Системный аналитик</td>\n",
       "      <td>VK</td>\n",
       "      <td>г. Москва</td>\n",
       "      <td></td>\n",
       "      <td>28.09.2023</td>\n",
       "      <td>https://trudvsem.ru/vacancy/card/7226c750-02f1...</td>\n",
       "    </tr>\n",
       "    <tr>\n",
       "      <th>2</th>\n",
       "      <td>Системный аналитик</td>\n",
       "      <td>ФИЛИАЛ ООО \"АГР\"</td>\n",
       "      <td>г. Москва</td>\n",
       "      <td>от 100 000 руб.</td>\n",
       "      <td>26.09.2023</td>\n",
       "      <td>https://trudvsem.ru/vacancy/card/97f0f670-8a79...</td>\n",
       "    </tr>\n",
       "    <tr>\n",
       "      <th>3</th>\n",
       "      <td>Системный аналитик</td>\n",
       "      <td>ПАО \"МОСКОВСКИЙ КРЕДИТНЫЙ БАНК\"</td>\n",
       "      <td>г. Москва</td>\n",
       "      <td>до 90 000 руб.</td>\n",
       "      <td>26.09.2023</td>\n",
       "      <td>https://trudvsem.ru/vacancy/card/1027739555282...</td>\n",
       "    </tr>\n",
       "    <tr>\n",
       "      <th>4</th>\n",
       "      <td>Системный аналитик</td>\n",
       "      <td>ООО «МУЛЬТИБОНУС»</td>\n",
       "      <td>г. Москва</td>\n",
       "      <td>от 150 000 руб.</td>\n",
       "      <td>25.09.2023</td>\n",
       "      <td>https://trudvsem.ru/vacancy/card/a2a56960-745e...</td>\n",
       "    </tr>\n",
       "  </tbody>\n",
       "</table>\n",
       "</div>"
      ],
      "text/plain": [
       "             название                         компания     регион   \n",
       "0  Системный аналитик                   ООО \"ЦИФРОМЕД\"  г. Москва  \\\n",
       "1  Системный аналитик                               VK  г. Москва   \n",
       "2  Системный аналитик                 ФИЛИАЛ ООО \"АГР\"  г. Москва   \n",
       "3  Системный аналитик  ПАО \"МОСКОВСКИЙ КРЕДИТНЫЙ БАНК\"  г. Москва   \n",
       "4  Системный аналитик                ООО «МУЛЬТИБОНУС»  г. Москва   \n",
       "\n",
       "                зп дата обновы   \n",
       "0  до 150 000 руб.  28.09.2023  \\\n",
       "1                   28.09.2023   \n",
       "2  от 100 000 руб.  26.09.2023   \n",
       "3   до 90 000 руб.  26.09.2023   \n",
       "4  от 150 000 руб.  25.09.2023   \n",
       "\n",
       "                                              ссылка  \n",
       "0  https://trudvsem.ru/vacancy/card/1197746421620...  \n",
       "1  https://trudvsem.ru/vacancy/card/7226c750-02f1...  \n",
       "2  https://trudvsem.ru/vacancy/card/97f0f670-8a79...  \n",
       "3  https://trudvsem.ru/vacancy/card/1027739555282...  \n",
       "4  https://trudvsem.ru/vacancy/card/a2a56960-745e...  "
      ]
     },
     "execution_count": 72,
     "metadata": {},
     "output_type": "execute_result"
    }
   ],
   "source": [
    "df.head()"
   ]
  },
  {
   "cell_type": "code",
   "execution_count": null,
   "id": "10eb078d-d5e7-491f-bc8c-2048e8a3e1d4",
   "metadata": {},
   "outputs": [],
   "source": []
  },
  {
   "cell_type": "code",
   "execution_count": 74,
   "id": "ccbd324e-8854-4c42-929f-2ed4e9d2d3f6",
   "metadata": {
    "tags": []
   },
   "outputs": [
    {
     "name": "stdout",
     "output_type": "stream",
     "text": [
      "Количество вакансий: 6\n",
      "Парсим вакансии:\n",
      "\n"
     ]
    }
   ],
   "source": [
    "with webdriver.Chrome() as browser:\n",
    "    \n",
    "    # заход на сайт\n",
    "    browser.get('https://trudvsem.ru/vacancy/search')\n",
    "    browser.maximize_window()\n",
    "    browser.delete_all_cookies()\n",
    "    time.sleep(2)\n",
    "    \n",
    "    # убрать фильтры \n",
    "    browser.find_element(By.XPATH, '/html/body/header/div[2]/div/div[2]/div/button[1]').click()\n",
    "    \n",
    "    # ищем поле ввода и вводим текст\n",
    "    inp = browser.find_element(By.XPATH, '/html/body/header/div[1]/div[1]/label[1]/input')\n",
    "    inp.send_keys('data scientist')\n",
    "    time.sleep(1)\n",
    "    \n",
    "    # # убираем фильтры из серч панели\n",
    "    # search_panel = browser.find_element(By.XPATH, '/html/body/header/div[2]/div')\n",
    "    # buttons = search_panel.find_elements(By.CLASS_NAME, 'search-panel__item')\n",
    "    # for button in buttons:\n",
    "    #     button = button.find_element(By.TAG_NAME, 'button')\n",
    "    #     button.click()\n",
    "    \n",
    "    # ищем кнопку \"найти\" и жмем ёё\n",
    "    browser.find_element(By.XPATH, '/html/body/header/div[1]/div[1]/button').click()\n",
    "    time.sleep(1)\n",
    "    \n",
    "    \n",
    "    # скроллинг до конца\n",
    "    try: \n",
    "        button = browser.find_element(By.XPATH, '/html/body/main/div[2]/div[5]/div/div[1]/div[3]/div[11]/button')\n",
    "        while True:\n",
    "            browser.execute_script(\"return arguments[0].scrollIntoView(true);\", button)\n",
    "            time.sleep(1)\n",
    "            button.click()\n",
    "            time.sleep(1)\n",
    "    except:\n",
    "        pass\n",
    "    \n",
    "    header = browser.find_element(By.TAG_NAME, 'h1')\n",
    "    browser.execute_script(\"return arguments[0].scrollIntoView(true);\", header)\n",
    "    \n",
    "    # посчитать количество вакансий на странице\n",
    "    vac_block_bar = browser.find_element(By.CLASS_NAME, 'main__search-sidebar')\n",
    "    vac_block = vac_block_bar.find_elements(By.TAG_NAME, 'div')\n",
    "    vac_block = [div for div in vac_block if 'search-results-simple-card mb-1' in str(div.get_attribute('class'))]\n",
    "    print('Количество вакансий:', len(vac_block))\n",
    "    print('Парсим вакансии:\\n')\n",
    "    \n",
    "    # вывести информацию о вакансии\n",
    "    for vac in vac_block:\n",
    "        vac_info = {}\n",
    "        vac_info['название'] = vac.find_element(By.TAG_NAME, 'strong').text\n",
    "        titles = vac.find_elements(By.CLASS_NAME, r'content_small')\n",
    "        vac_info['компания'] = titles[0].text\n",
    "        vac_info['регион'] = titles[1].text\n",
    "        vac_info['зп'] = vac.find_element(By.CLASS_NAME, r'search-results-simple-card__salary').text\n",
    "        vac_info['дата обновы'] = vac.find_element(By.CLASS_NAME, r'date__preview').text.strip('Обновлено: ')\n",
    "        vac_info['ссылка'] = vac.find_element(By.TAG_NAME, 'a').get_attribute('href')\n",
    "        df.loc[len(df)] = vac_info"
   ]
  },
  {
   "cell_type": "code",
   "execution_count": 75,
   "id": "0cd19d51-cfae-41c6-b84a-a8f5d3b87244",
   "metadata": {
    "tags": []
   },
   "outputs": [
    {
     "data": {
      "text/html": [
       "<div>\n",
       "<style scoped>\n",
       "    .dataframe tbody tr th:only-of-type {\n",
       "        vertical-align: middle;\n",
       "    }\n",
       "\n",
       "    .dataframe tbody tr th {\n",
       "        vertical-align: top;\n",
       "    }\n",
       "\n",
       "    .dataframe thead th {\n",
       "        text-align: right;\n",
       "    }\n",
       "</style>\n",
       "<table border=\"1\" class=\"dataframe\">\n",
       "  <thead>\n",
       "    <tr style=\"text-align: right;\">\n",
       "      <th></th>\n",
       "      <th>название</th>\n",
       "      <th>компания</th>\n",
       "      <th>регион</th>\n",
       "      <th>зп</th>\n",
       "      <th>дата обновы</th>\n",
       "      <th>ссылка</th>\n",
       "    </tr>\n",
       "  </thead>\n",
       "  <tbody>\n",
       "    <tr>\n",
       "      <th>39</th>\n",
       "      <td>Middle/senior data scientist</td>\n",
       "      <td>СберМаркет</td>\n",
       "      <td>г. Москва</td>\n",
       "      <td></td>\n",
       "      <td>13.09.2023</td>\n",
       "      <td>https://trudvsem.ru/vacancy/card/7226c750-02f1...</td>\n",
       "    </tr>\n",
       "    <tr>\n",
       "      <th>40</th>\n",
       "      <td>Lead data scientist (operations)</td>\n",
       "      <td>СберМаркет</td>\n",
       "      <td>г. Москва</td>\n",
       "      <td></td>\n",
       "      <td>13.09.2023</td>\n",
       "      <td>https://trudvsem.ru/vacancy/card/7226c750-02f1...</td>\n",
       "    </tr>\n",
       "    <tr>\n",
       "      <th>41</th>\n",
       "      <td>Разработчик-исследователь / data scientist в d...</td>\n",
       "      <td>VK</td>\n",
       "      <td>г. Москва</td>\n",
       "      <td></td>\n",
       "      <td>04.09.2023</td>\n",
       "      <td>https://trudvsem.ru/vacancy/card/7226c750-02f1...</td>\n",
       "    </tr>\n",
       "    <tr>\n",
       "      <th>42</th>\n",
       "      <td>Data scientist/machine learning engineer в ком...</td>\n",
       "      <td>VK</td>\n",
       "      <td>г. Москва</td>\n",
       "      <td></td>\n",
       "      <td>25.09.2023</td>\n",
       "      <td>https://trudvsem.ru/vacancy/card/7226c750-02f1...</td>\n",
       "    </tr>\n",
       "    <tr>\n",
       "      <th>43</th>\n",
       "      <td>Ml engineer / data scientist в команду автомат...</td>\n",
       "      <td>VK</td>\n",
       "      <td>г. Москва</td>\n",
       "      <td></td>\n",
       "      <td>04.09.2023</td>\n",
       "      <td>https://trudvsem.ru/vacancy/card/7226c750-02f1...</td>\n",
       "    </tr>\n",
       "  </tbody>\n",
       "</table>\n",
       "</div>"
      ],
      "text/plain": [
       "                                             название    компания     регион   \n",
       "39                       Middle/senior data scientist  СберМаркет  г. Москва  \\\n",
       "40                   Lead data scientist (operations)  СберМаркет  г. Москва   \n",
       "41  Разработчик-исследователь / data scientist в d...          VK  г. Москва   \n",
       "42  Data scientist/machine learning engineer в ком...          VK  г. Москва   \n",
       "43  Ml engineer / data scientist в команду автомат...          VK  г. Москва   \n",
       "\n",
       "   зп дата обновы                                             ссылка  \n",
       "39     13.09.2023  https://trudvsem.ru/vacancy/card/7226c750-02f1...  \n",
       "40     13.09.2023  https://trudvsem.ru/vacancy/card/7226c750-02f1...  \n",
       "41     04.09.2023  https://trudvsem.ru/vacancy/card/7226c750-02f1...  \n",
       "42     25.09.2023  https://trudvsem.ru/vacancy/card/7226c750-02f1...  \n",
       "43     04.09.2023  https://trudvsem.ru/vacancy/card/7226c750-02f1...  "
      ]
     },
     "execution_count": 75,
     "metadata": {},
     "output_type": "execute_result"
    }
   ],
   "source": [
    "df.tail()"
   ]
  },
  {
   "cell_type": "code",
   "execution_count": null,
   "id": "38178923-6895-431b-a460-fe520163ad00",
   "metadata": {},
   "outputs": [],
   "source": []
  }
 ],
 "metadata": {
  "kernelspec": {
   "display_name": "Python 3 (ipykernel)",
   "language": "python",
   "name": "python3"
  },
  "language_info": {
   "codemirror_mode": {
    "name": "ipython",
    "version": 3
   },
   "file_extension": ".py",
   "mimetype": "text/x-python",
   "name": "python",
   "nbconvert_exporter": "python",
   "pygments_lexer": "ipython3",
   "version": "3.10.9"
  }
 },
 "nbformat": 4,
 "nbformat_minor": 5
}
